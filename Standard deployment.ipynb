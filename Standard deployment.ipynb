{
 "cells": [
  {
   "cell_type": "code",
   "execution_count": 1,
   "id": "d9e994e1-5c08-4068-85a1-ac61010a0cfb",
   "metadata": {},
   "outputs": [],
   "source": [
    "import pandas as pd\n",
    "import pickle "
   ]
  },
  {
   "cell_type": "code",
   "execution_count": 2,
   "id": "1d60d030-877f-4c82-a337-297e34842158",
   "metadata": {},
   "outputs": [],
   "source": [
    "dataset=pd.read_csv(\"Insurance.csv\")"
   ]
  },
  {
   "cell_type": "code",
   "execution_count": 3,
   "id": "0982a17b-3d73-4e91-9390-d279d881cc59",
   "metadata": {},
   "outputs": [],
   "source": [
    "dataset=pd.get_dummies(dataset,dtype=int,drop_first=True)"
   ]
  },
  {
   "cell_type": "code",
   "execution_count": 4,
   "id": "38a27eb2-5699-4413-9f7d-cc1fc64e1320",
   "metadata": {},
   "outputs": [],
   "source": [
    "indep=dataset[['age', 'bmi', 'children','sex_male', 'smoker_yes']]"
   ]
  },
  {
   "cell_type": "code",
   "execution_count": 5,
   "id": "2155bd50-9f41-478d-bf70-0eec0ae2e402",
   "metadata": {},
   "outputs": [],
   "source": [
    "dep=dataset[['charges']]"
   ]
  },
  {
   "cell_type": "code",
   "execution_count": 6,
   "id": "18c0d28d-ce15-46c0-b80f-9c88879dd6e4",
   "metadata": {},
   "outputs": [],
   "source": [
    "from sklearn.model_selection import train_test_split\n",
    "X_train,X_test,y_train,y_test=train_test_split(indep,dep,test_size=0.30,random_state=0)"
   ]
  },
  {
   "cell_type": "code",
   "execution_count": 7,
   "id": "d925ef3a-cd99-4284-b8c4-4750d6e60dfd",
   "metadata": {},
   "outputs": [],
   "source": [
    "from sklearn.preprocessing import StandardScaler\n",
    "sc=StandardScaler()\n",
    "X_train=sc.fit_transform(X_train)\n",
    "X_test=sc.transform(X_test)"
   ]
  },
  {
   "cell_type": "code",
   "execution_count": 8,
   "id": "329723c6-6fe3-4ccd-ba61-0f0785f0729e",
   "metadata": {},
   "outputs": [],
   "source": [
    "from sklearn.preprocessing import StandardScaler\n",
    "scy=StandardScaler()\n",
    "y_train=scy.fit_transform(y_train)\n",
    "y_test=scy.transform(y_test)"
   ]
  },
  {
   "cell_type": "code",
   "execution_count": 9,
   "id": "fa87120c-d5d8-4143-b568-e690f5c8c107",
   "metadata": {},
   "outputs": [
    {
     "name": "stderr",
     "output_type": "stream",
     "text": [
      "C:\\Users\\ADMIN\\anaconda3\\Lib\\site-packages\\sklearn\\base.py:493: UserWarning: X does not have valid feature names, but StandardScaler was fitted with feature names\n",
      "  warnings.warn(\n"
     ]
    },
    {
     "data": {
      "text/plain": [
       "array([[ 3.32228295,  4.05625754,  4.08690857,  1.02378711, -0.50466988]])"
      ]
     },
     "execution_count": 9,
     "metadata": {},
     "output_type": "execute_result"
    }
   ],
   "source": [
    "pre_input=sc.transform([[86,56.032,6,1,0]])\n",
    "pre_input"
   ]
  },
  {
   "cell_type": "code",
   "execution_count": 10,
   "id": "9bdbeb97-01dc-4eaf-9977-50f7be6111d8",
   "metadata": {},
   "outputs": [
    {
     "data": {
      "text/plain": [
       "array([0.42977142])"
      ]
     },
     "execution_count": 10,
     "metadata": {},
     "output_type": "execute_result"
    }
   ],
   "source": [
    "load_model=pickle.load(open(\"finale_svm_standard.sav\",\"rb\"))\n",
    "result=load_model.predict(pre_input)\n",
    "result"
   ]
  },
  {
   "cell_type": "code",
   "execution_count": 11,
   "id": "ecfa4792-bb11-4015-bc84-232b5dd57446",
   "metadata": {},
   "outputs": [
    {
     "data": {
      "text/plain": [
       "array([[18335.9201528]])"
      ]
     },
     "execution_count": 11,
     "metadata": {},
     "output_type": "execute_result"
    }
   ],
   "source": [
    "pre_output=scy.inverse_transform([result])\n",
    "pre_output"
   ]
  },
  {
   "cell_type": "code",
   "execution_count": null,
   "id": "af7a9732-83b1-4999-bb82-2556f8ab8e69",
   "metadata": {},
   "outputs": [],
   "source": []
  }
 ],
 "metadata": {
  "kernelspec": {
   "display_name": "Python 3 (ipykernel)",
   "language": "python",
   "name": "python3"
  },
  "language_info": {
   "codemirror_mode": {
    "name": "ipython",
    "version": 3
   },
   "file_extension": ".py",
   "mimetype": "text/x-python",
   "name": "python",
   "nbconvert_exporter": "python",
   "pygments_lexer": "ipython3",
   "version": "3.11.7"
  }
 },
 "nbformat": 4,
 "nbformat_minor": 5
}
